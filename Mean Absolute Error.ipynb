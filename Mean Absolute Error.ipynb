{
 "cells": [
  {
   "cell_type": "markdown",
   "metadata": {},
   "source": [
    "# Mean Absolute Error\n",
    "\n",
    "EZPZ"
   ]
  },
  {
   "cell_type": "code",
   "execution_count": 12,
   "metadata": {},
   "outputs": [
    {
     "name": "stdout",
     "output_type": "stream",
     "text": [
      "3.88\n"
     ]
    }
   ],
   "source": [
    "import math\n",
    "\n",
    "points = [\n",
    "    (2, -2),\n",
    "    (5, 6),\n",
    "    (-4, -4),\n",
    "    (-7, 1),\n",
    "    (8, 14)\n",
    "]\n",
    "\n",
    "m = 1.2\n",
    "b = 2\n",
    "\n",
    "errors = []\n",
    "\n",
    "for p in points:\n",
    "    errors.append(abs(p[1] - (m*p[0]+b)))\n",
    "\n",
    "print(sum(errors)/len(errors))"
   ]
  }
 ],
 "metadata": {
  "kernelspec": {
   "display_name": "Python 3",
   "language": "python",
   "name": "python3"
  },
  "language_info": {
   "codemirror_mode": {
    "name": "ipython",
    "version": 3
   },
   "file_extension": ".py",
   "mimetype": "text/x-python",
   "name": "python",
   "nbconvert_exporter": "python",
   "pygments_lexer": "ipython3",
   "version": "3.8.5"
  }
 },
 "nbformat": 4,
 "nbformat_minor": 4
}
