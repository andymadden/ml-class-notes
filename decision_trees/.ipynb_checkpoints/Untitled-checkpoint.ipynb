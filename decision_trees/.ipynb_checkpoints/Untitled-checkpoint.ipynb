{
 "cells": [
  {
   "cell_type": "markdown",
   "metadata": {},
   "source": [
    "# Information Gain\n",
    "\n",
    "Information gain is the entropy lost between a parent node and a child node within a decision tree."
   ]
  },
  {
   "cell_type": "code",
   "execution_count": 24,
   "metadata": {},
   "outputs": [
    {
     "name": "stdout",
     "output_type": "stream",
     "text": [
      "       Mobug  Lobug   entropy  information_gain\n",
      "Color                                          \n",
      "Blue       4      6  0.970951          0.008918\n",
      "Brown      4      2  0.918296          0.061573\n",
      "Green      2      6  0.811278          0.168591\n"
     ]
    }
   ],
   "source": [
    "import numpy as np\n",
    "import pandas as pd\n",
    "\n",
    "logb2 = lambda i : np.log(i)/np.log(2)\n",
    "\n",
    "def entropy(opts):\n",
    "    ret = 0\n",
    "    for i in opts:\n",
    "        ret -= (i/(sum(opts)))*logb2(i/sum(opts))\n",
    "    return ret\n",
    "\n",
    "data = pd.read_csv('https://s3.amazonaws.com/video.udacity-data.com/topher/2018/April/5ad940f6_ml-bugs/ml-bugs.csv')\n",
    "\n",
    "initial_set = [data[data['Species'] == 'Mobug'].index.size, data[data['Species'] == 'Lobug'].index.size]\n",
    "initial_entropy = entropy(initial_set)\n",
    "\n",
    "mobug_counts_color = data[data['Species'] == 'Mobug'].groupby('Color').count().iloc[:,0]\n",
    "lobug_counts_color = data[data['Species'] == 'Lobug'].groupby('Color').count().iloc[:,0]\n",
    "\n",
    "color_counts = pd.merge(mobug_counts_color, lobug_counts_color, left_index=True, right_index=True)\n",
    "color_counts.columns = ['Mobug', 'Lobug']\n",
    "color_counts['entropy'] = entropy([color_counts['Mobug'], color_counts['Lobug']])\n",
    "color_counts['information_gain'] = initial_entropy - color_counts['entropy']\n",
    "\n",
    "print(color_counts)\n",
    "\n",
    "\n",
    "def info_gain_length(l, lt=True):\n",
    "    if lt:\n",
    "        mobug_under = data[(data['Species'] == 'Mobug') & (data['Length (mm)'] < l)].index.size\n",
    "        lobug_under = data[(data['Species'] == 'Lobug') & (data['Length (mm)'] < l)].index.size\n",
    "    else:\n",
    "        mobug_under = data[(data['Species'] == 'Mobug') & (data['Length (mm)'] > l)].index.size\n",
    "        lobug_under = data[(data['Species'] == 'Lobug') & (data['Length (mm)'] > l)].index.size\n",
    "    \n",
    "    ent = entropy([mobug_under, lobug_under])\n",
    "    info_gain = initial_entropy - ent\n",
    "    return info_gain\n",
    "\n",
    "print(\"<17 information gain: \" + str(entropy([mobug_under_17, lobug_under_17])))\n",
    "print(\"\")\n",
    "\n",
    "\n"
   ]
  }
 ],
 "metadata": {
  "kernelspec": {
   "display_name": "Python 3",
   "language": "python",
   "name": "python3"
  },
  "language_info": {
   "codemirror_mode": {
    "name": "ipython",
    "version": 3
   },
   "file_extension": ".py",
   "mimetype": "text/x-python",
   "name": "python",
   "nbconvert_exporter": "python",
   "pygments_lexer": "ipython3",
   "version": "3.8.5"
  }
 },
 "nbformat": 4,
 "nbformat_minor": 4
}
