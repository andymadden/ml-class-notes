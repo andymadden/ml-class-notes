{
 "cells": [
  {
   "cell_type": "markdown",
   "metadata": {},
   "source": [
    "# Entropy\n",
    "\n",
    "## Entropy Formula\n",
    "\n",
    "$$\n",
    "-\\frac{m}{m+n}log_2(\\frac{m}{m+n})-\\frac{n}{m+n}log_2(\\frac{m}{m+n})\n",
    "$$"
   ]
  },
  {
   "cell_type": "markdown",
   "metadata": {},
   "source": [
    "## Calculating Entropy"
   ]
  },
  {
   "cell_type": "code",
   "execution_count": 7,
   "metadata": {},
   "outputs": [
    {
     "name": "stdout",
     "output_type": "stream",
     "text": [
      "1.3346791410515946\n"
     ]
    }
   ],
   "source": [
    "import numpy as np\n",
    "\n",
    "logb2 = lambda i : np.log(i)/np.log(2)\n",
    "\n",
    "ball_counts = [8, 3, 2]\n",
    "\n",
    "entropy = 0\n",
    "for c in ball_counts:\n",
    "    prob = c/sum(ball_counts)\n",
    "    entropy += -(prob)*logb2(prob)\n",
    "    \n",
    "print(entropy)"
   ]
  },
  {
   "cell_type": "code",
   "execution_count": null,
   "metadata": {},
   "outputs": [],
   "source": []
  }
 ],
 "metadata": {
  "kernelspec": {
   "display_name": "Python 3",
   "language": "python",
   "name": "python3"
  },
  "language_info": {
   "codemirror_mode": {
    "name": "ipython",
    "version": 3
   },
   "file_extension": ".py",
   "mimetype": "text/x-python",
   "name": "python",
   "nbconvert_exporter": "python",
   "pygments_lexer": "ipython3",
   "version": "3.8.5"
  }
 },
 "nbformat": 4,
 "nbformat_minor": 4
}
