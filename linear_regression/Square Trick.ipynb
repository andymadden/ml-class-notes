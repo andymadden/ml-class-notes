{
 "cells": [
  {
   "cell_type": "markdown",
   "metadata": {},
   "source": [
    "# Square Trick\n",
    "\n",
    "Working with the square trick to find the line of best fit"
   ]
  },
  {
   "cell_type": "code",
   "execution_count": 91,
   "metadata": {},
   "outputs": [
    {
     "name": "stdout",
     "output_type": "stream",
     "text": [
      "0.05205000000000015\n",
      "0.0014199999999999996\n"
     ]
    },
    {
     "data": {
      "text/plain": [
       "[<matplotlib.lines.Line2D at 0x7f1c193ab670>]"
      ]
     },
     "execution_count": 91,
     "metadata": {},
     "output_type": "execute_result"
    },
    {
     "data": {
      "image/png": "[encoded data removed]",
      "text/plain": [
       "<Figure size 432x288 with 1 Axes>"
      ]
     },
     "metadata": {
      "needs_background": "light"
     },
     "output_type": "display_data"
    }
   ],
   "source": [
    "%matplotlib inline\n",
    "import matplotlib.pyplot as plt\n",
    "import numpy as np\n",
    "\n",
    "x = [a for a in range(100)]\n",
    "y = [np.random.randint(0, 100) for a in range(100)]\n",
    "\n",
    "alpha = 0.00001\n",
    "m = 1\n",
    "b = 0\n",
    "\n",
    "m_delta = 0\n",
    "b_delta = 0\n",
    "for i in range(100):\n",
    "    y_p = m*x[i] + b\n",
    "    m_delta += x[i]*alpha*(y[i] - y_p)\n",
    "    b_delta += alpha*(y[i] - y_p)\n",
    "\n",
    "m += m_delta\n",
    "b += b_delta\n",
    "\n",
    "print(m)\n",
    "print(b)\n",
    "plt.scatter(x, y)\n",
    "plt.plot([0, 100], [b, m*x[-1]+b])"
   ]
  },
  {
   "cell_type": "markdown",
   "metadata": {},
   "source": [
    "I seem to be missing something even though this is written per the instructions from the class."
   ]
  }
 ],
 "metadata": {
  "kernelspec": {
   "display_name": "Python 3",
   "language": "python",
   "name": "python3"
  },
  "language_info": {
   "codemirror_mode": {
    "name": "ipython",
    "version": 3
   },
   "file_extension": ".py",
   "mimetype": "text/x-python",
   "name": "python",
   "nbconvert_exporter": "python",
   "pygments_lexer": "ipython3",
   "version": "3.8.5"
  }
 },
 "nbformat": 4,
 "nbformat_minor": 4
}
