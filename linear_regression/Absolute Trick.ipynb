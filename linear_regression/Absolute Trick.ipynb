{
 "cells": [
  {
   "cell_type": "markdown",
   "metadata": {},
   "source": [
    "# Absolute Trick\n",
    "\n",
    "In this notebook, I'm going to use the absolute trick in order to try to find the line of best fit for a set of random data"
   ]
  },
  {
   "cell_type": "code",
   "execution_count": 10,
   "metadata": {},
   "outputs": [
    {
     "data": {
      "text/plain": [
       "<matplotlib.collections.PathCollection at 0x7fcb9d69dc70>"
      ]
     },
     "execution_count": 10,
     "metadata": {},
     "output_type": "execute_result"
    },
    {
     "data": {
      "image/png": "[encoded data removed]",
      "text/plain": [
       "<Figure size 432x288 with 1 Axes>"
      ]
     },
     "metadata": {
      "needs_background": "light"
     },
     "output_type": "display_data"
    }
   ],
   "source": [
    "%matplotlib inline\n",
    "import numpy as np\n",
    "import matplotlib.pyplot as plt\n",
    "\n",
    "x = [a for a in range(100)]\n",
    "y = [np.random.randint(0, 100) for a in range(100)]\n",
    "\n",
    "plt.scatter(x, y)"
   ]
  },
  {
   "cell_type": "markdown",
   "metadata": {},
   "source": [
    "Now that we have some random data, let's fit a line to it."
   ]
  },
  {
   "cell_type": "code",
   "execution_count": 23,
   "metadata": {},
   "outputs": [
    {
     "name": "stdout",
     "output_type": "stream",
     "text": [
      "m: 0.08000000000000179\n",
      "b: 48.108999999995085\n"
     ]
    },
    {
     "data": {
      "text/plain": [
       "[<matplotlib.lines.Line2D at 0x7fcb9d0a1940>]"
      ]
     },
     "execution_count": 23,
     "metadata": {},
     "output_type": "execute_result"
    },
    {
     "data": {
      "image/png": "[encoded data removed]",
      "text/plain": [
       "<Figure size 432x288 with 1 Axes>"
      ]
     },
     "metadata": {
      "needs_background": "light"
     },
     "output_type": "display_data"
    }
   ],
   "source": [
    "alpha = 0.001 # set the learning rate\n",
    "m = 1 # set the slope of the line\n",
    "b = np.random.randint(0, 100) # set the y-intercept of the line\n",
    "\n",
    "for j in range(1000):\n",
    "    for i in range(100):\n",
    "        \n",
    "        if m*x[i] + b >= y[i]: # if the point is below the current line\n",
    "            m -= alpha*x[i]    # slope the line down towards the point\n",
    "            b -= alpha         # shift the line down towards the point \n",
    "            \n",
    "        if m*x[i] + b < y[i]: # if the point is above the current line\n",
    "            m += alpha*x[i]   # slope the line up towards the point\n",
    "            b += alpha        # shift the line up towards the point\n",
    "\n",
    "print(\"m: \" + str(m))\n",
    "print(\"b: \" + str(b))\n",
    "plt.scatter(x, y)\n",
    "plt.plot([0, 100], [b, m*100+b])"
   ]
  },
  {
   "cell_type": "markdown",
   "metadata": {},
   "source": [
    "You can rerun both sets of code in order to try for different random datasets."
   ]
  }
 ],
 "metadata": {
  "kernelspec": {
   "display_name": "Python 3",
   "language": "python",
   "name": "python3"
  },
  "language_info": {
   "codemirror_mode": {
    "name": "ipython",
    "version": 3
   },
   "file_extension": ".py",
   "mimetype": "text/x-python",
   "name": "python",
   "nbconvert_exporter": "python",
   "pygments_lexer": "ipython3",
   "version": "3.8.5"
  }
 },
 "nbformat": 4,
 "nbformat_minor": 4
}
