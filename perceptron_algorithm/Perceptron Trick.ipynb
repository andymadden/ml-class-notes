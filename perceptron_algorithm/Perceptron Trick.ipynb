{
 "cells": [
  {
   "cell_type": "markdown",
   "metadata": {},
   "source": [
    "# Perceptron Trick\n",
    "\n",
    "Using the location of a misclasified point to move the classifying line so that the point is classified correctly"
   ]
  },
  {
   "cell_type": "code",
   "execution_count": 11,
   "metadata": {},
   "outputs": [
    {
     "name": "stdout",
     "output_type": "stream",
     "text": [
      "11\n"
     ]
    }
   ],
   "source": [
    "import numpy as np\n",
    "\n",
    "alpha = 0.1\n",
    "\n",
    "point = np.array([1, 1])\n",
    "\n",
    "weights = np.array([3, 4])\n",
    "bias = -10\n",
    "\n",
    "count = 0\n",
    "\n",
    "while (np.dot(point, weights) + bias) <= 0:\n",
    "    weights = weights + alpha*(point)\n",
    "    bias = bias + alpha\n",
    "    count += 1\n",
    "\n",
    "print(count)"
   ]
  },
  {
   "cell_type": "markdown",
   "metadata": {},
   "source": [
    "This shows that we need to move our existing line 11 times to move the point into the correct location"
   ]
  }
 ],
 "metadata": {
  "kernelspec": {
   "display_name": "Python 3",
   "language": "python",
   "name": "python3"
  },
  "language_info": {
   "codemirror_mode": {
    "name": "ipython",
    "version": 3
   },
   "file_extension": ".py",
   "mimetype": "text/x-python",
   "name": "python",
   "nbconvert_exporter": "python",
   "pygments_lexer": "ipython3",
   "version": "3.8.5"
  }
 },
 "nbformat": 4,
 "nbformat_minor": 4
}
